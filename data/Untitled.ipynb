{
 "cells": [
  {
   "cell_type": "code",
   "execution_count": 1,
   "id": "edacdc02-e45c-4727-8a4b-c00e83642a91",
   "metadata": {},
   "outputs": [],
   "source": [
    "import pandas as pd\n",
    "bbdd_tui = pd.read_csv(\n",
    "    \"BBDD_TUI.csv\", \n",
    "    sep=\",\", \n",
    "    encoding=\"utf-8-sig\",\n",
    "    engine=\"python\"\n",
    ")"
   ]
  },
  {
   "cell_type": "code",
   "execution_count": 2,
   "id": "42f2bcf0-88df-41ce-a66b-0bffe98ae098",
   "metadata": {},
   "outputs": [
    {
     "data": {
      "text/html": [
       "<div>\n",
       "<style scoped>\n",
       "    .dataframe tbody tr th:only-of-type {\n",
       "        vertical-align: middle;\n",
       "    }\n",
       "\n",
       "    .dataframe tbody tr th {\n",
       "        vertical-align: top;\n",
       "    }\n",
       "\n",
       "    .dataframe thead th {\n",
       "        text-align: right;\n",
       "    }\n",
       "</style>\n",
       "<table border=\"1\" class=\"dataframe\">\n",
       "  <thead>\n",
       "    <tr style=\"text-align: right;\">\n",
       "      <th></th>\n",
       "      <th>PLACE_ID</th>\n",
       "      <th>TOTAL_VALORACIONES_TUI</th>\n",
       "      <th>LATITUD_TUI</th>\n",
       "      <th>LONGITUD_TUI</th>\n",
       "    </tr>\n",
       "  </thead>\n",
       "  <tbody>\n",
       "    <tr>\n",
       "      <th>count</th>\n",
       "      <td>33885.000000</td>\n",
       "      <td>33885.000000</td>\n",
       "      <td>33885.000000</td>\n",
       "      <td>33885.000000</td>\n",
       "    </tr>\n",
       "    <tr>\n",
       "      <th>mean</th>\n",
       "      <td>16943.000000</td>\n",
       "      <td>627.528346</td>\n",
       "      <td>40.428134</td>\n",
       "      <td>-3.698326</td>\n",
       "    </tr>\n",
       "    <tr>\n",
       "      <th>std</th>\n",
       "      <td>9781.901272</td>\n",
       "      <td>2674.318716</td>\n",
       "      <td>0.029293</td>\n",
       "      <td>0.049288</td>\n",
       "    </tr>\n",
       "    <tr>\n",
       "      <th>min</th>\n",
       "      <td>1.000000</td>\n",
       "      <td>0.000000</td>\n",
       "      <td>40.367846</td>\n",
       "      <td>-3.894577</td>\n",
       "    </tr>\n",
       "    <tr>\n",
       "      <th>25%</th>\n",
       "      <td>8472.000000</td>\n",
       "      <td>7.000000</td>\n",
       "      <td>40.406132</td>\n",
       "      <td>-3.714310</td>\n",
       "    </tr>\n",
       "    <tr>\n",
       "      <th>50%</th>\n",
       "      <td>16943.000000</td>\n",
       "      <td>85.000000</td>\n",
       "      <td>40.427122</td>\n",
       "      <td>-3.696564</td>\n",
       "    </tr>\n",
       "    <tr>\n",
       "      <th>75%</th>\n",
       "      <td>25414.000000</td>\n",
       "      <td>455.000000</td>\n",
       "      <td>40.447687</td>\n",
       "      <td>-3.673042</td>\n",
       "    </tr>\n",
       "    <tr>\n",
       "      <th>max</th>\n",
       "      <td>33885.000000</td>\n",
       "      <td>202617.000000</td>\n",
       "      <td>40.520957</td>\n",
       "      <td>-3.557500</td>\n",
       "    </tr>\n",
       "  </tbody>\n",
       "</table>\n",
       "</div>"
      ],
      "text/plain": [
       "           PLACE_ID  TOTAL_VALORACIONES_TUI   LATITUD_TUI  LONGITUD_TUI\n",
       "count  33885.000000            33885.000000  33885.000000  33885.000000\n",
       "mean   16943.000000              627.528346     40.428134     -3.698326\n",
       "std     9781.901272             2674.318716      0.029293      0.049288\n",
       "min        1.000000                0.000000     40.367846     -3.894577\n",
       "25%     8472.000000                7.000000     40.406132     -3.714310\n",
       "50%    16943.000000               85.000000     40.427122     -3.696564\n",
       "75%    25414.000000              455.000000     40.447687     -3.673042\n",
       "max    33885.000000           202617.000000     40.520957     -3.557500"
      ]
     },
     "execution_count": 2,
     "metadata": {},
     "output_type": "execute_result"
    }
   ],
   "source": [
    "bbdd_tui.describe()"
   ]
  },
  {
   "cell_type": "code",
   "execution_count": 3,
   "id": "f7277f21-6d37-4ae5-bf2f-f7470e9e6eb1",
   "metadata": {},
   "outputs": [
    {
     "data": {
      "text/plain": [
       "Index(['PLACE_ID', 'NOMBRE_TUI', 'TIPOS_TUI', 'CATEGORIA_TUI', 'DIRECCION',\n",
       "       'RATING_TUI', 'TOTAL_VALORACIONES_TUI', 'PRECIO', 'ESTADO_NEGOCIO',\n",
       "       'LATITUD_TUI', 'LONGITUD_TUI', 'URL', 'WEBSITE', 'HORARIO', 'TELEFONO',\n",
       "       'RESERVA_POSIBLE', 'ACCESIBILIDAD_SILLA_RUEDAS', 'TIPOS_API'],\n",
       "      dtype='object')"
      ]
     },
     "execution_count": 3,
     "metadata": {},
     "output_type": "execute_result"
    }
   ],
   "source": [
    "bbdd_tui.columns"
   ]
  },
  {
   "cell_type": "code",
   "execution_count": 4,
   "id": "23e67517-f4a4-4ea8-8f38-be26549bf5f0",
   "metadata": {},
   "outputs": [],
   "source": [
    "bbdd_tui[\"RATING_TUI\"] = pd.to_numeric(bbdd_tui[\"RATING_TUI\"], errors=\"coerce\")"
   ]
  },
  {
   "cell_type": "code",
   "execution_count": 5,
   "id": "fc092bc6-1769-4413-a5e0-75a45326aa66",
   "metadata": {},
   "outputs": [
    {
     "data": {
      "text/html": [
       "<div>\n",
       "<style scoped>\n",
       "    .dataframe tbody tr th:only-of-type {\n",
       "        vertical-align: middle;\n",
       "    }\n",
       "\n",
       "    .dataframe tbody tr th {\n",
       "        vertical-align: top;\n",
       "    }\n",
       "\n",
       "    .dataframe thead th {\n",
       "        text-align: right;\n",
       "    }\n",
       "</style>\n",
       "<table border=\"1\" class=\"dataframe\">\n",
       "  <thead>\n",
       "    <tr style=\"text-align: right;\">\n",
       "      <th></th>\n",
       "      <th>PLACE_ID</th>\n",
       "      <th>RATING_TUI</th>\n",
       "      <th>TOTAL_VALORACIONES_TUI</th>\n",
       "      <th>LATITUD_TUI</th>\n",
       "      <th>LONGITUD_TUI</th>\n",
       "    </tr>\n",
       "  </thead>\n",
       "  <tbody>\n",
       "    <tr>\n",
       "      <th>count</th>\n",
       "      <td>33885.000000</td>\n",
       "      <td>19290.000000</td>\n",
       "      <td>33885.000000</td>\n",
       "      <td>33885.000000</td>\n",
       "      <td>33885.000000</td>\n",
       "    </tr>\n",
       "    <tr>\n",
       "      <th>mean</th>\n",
       "      <td>16943.000000</td>\n",
       "      <td>3.526895</td>\n",
       "      <td>627.528346</td>\n",
       "      <td>40.428134</td>\n",
       "      <td>-3.698326</td>\n",
       "    </tr>\n",
       "    <tr>\n",
       "      <th>std</th>\n",
       "      <td>9781.901272</td>\n",
       "      <td>1.740052</td>\n",
       "      <td>2674.318716</td>\n",
       "      <td>0.029293</td>\n",
       "      <td>0.049288</td>\n",
       "    </tr>\n",
       "    <tr>\n",
       "      <th>min</th>\n",
       "      <td>1.000000</td>\n",
       "      <td>0.000000</td>\n",
       "      <td>0.000000</td>\n",
       "      <td>40.367846</td>\n",
       "      <td>-3.894577</td>\n",
       "    </tr>\n",
       "    <tr>\n",
       "      <th>25%</th>\n",
       "      <td>8472.000000</td>\n",
       "      <td>3.500000</td>\n",
       "      <td>7.000000</td>\n",
       "      <td>40.406132</td>\n",
       "      <td>-3.714310</td>\n",
       "    </tr>\n",
       "    <tr>\n",
       "      <th>50%</th>\n",
       "      <td>16943.000000</td>\n",
       "      <td>4.200000</td>\n",
       "      <td>85.000000</td>\n",
       "      <td>40.427122</td>\n",
       "      <td>-3.696564</td>\n",
       "    </tr>\n",
       "    <tr>\n",
       "      <th>75%</th>\n",
       "      <td>25414.000000</td>\n",
       "      <td>4.700000</td>\n",
       "      <td>455.000000</td>\n",
       "      <td>40.447687</td>\n",
       "      <td>-3.673042</td>\n",
       "    </tr>\n",
       "    <tr>\n",
       "      <th>max</th>\n",
       "      <td>33885.000000</td>\n",
       "      <td>5.000000</td>\n",
       "      <td>202617.000000</td>\n",
       "      <td>40.520957</td>\n",
       "      <td>-3.557500</td>\n",
       "    </tr>\n",
       "  </tbody>\n",
       "</table>\n",
       "</div>"
      ],
      "text/plain": [
       "           PLACE_ID    RATING_TUI  TOTAL_VALORACIONES_TUI   LATITUD_TUI  \\\n",
       "count  33885.000000  19290.000000            33885.000000  33885.000000   \n",
       "mean   16943.000000      3.526895              627.528346     40.428134   \n",
       "std     9781.901272      1.740052             2674.318716      0.029293   \n",
       "min        1.000000      0.000000                0.000000     40.367846   \n",
       "25%     8472.000000      3.500000                7.000000     40.406132   \n",
       "50%    16943.000000      4.200000               85.000000     40.427122   \n",
       "75%    25414.000000      4.700000              455.000000     40.447687   \n",
       "max    33885.000000      5.000000           202617.000000     40.520957   \n",
       "\n",
       "       LONGITUD_TUI  \n",
       "count  33885.000000  \n",
       "mean      -3.698326  \n",
       "std        0.049288  \n",
       "min       -3.894577  \n",
       "25%       -3.714310  \n",
       "50%       -3.696564  \n",
       "75%       -3.673042  \n",
       "max       -3.557500  "
      ]
     },
     "execution_count": 5,
     "metadata": {},
     "output_type": "execute_result"
    }
   ],
   "source": [
    "bbdd_tui.describe()"
   ]
  },
  {
   "cell_type": "code",
   "execution_count": 6,
   "id": "2a3ace39-5f6d-47e5-865c-089a9119b82d",
   "metadata": {},
   "outputs": [
    {
     "data": {
      "text/plain": [
       "PLACE_ID                          0\n",
       "NOMBRE_TUI                        0\n",
       "TIPOS_TUI                         0\n",
       "CATEGORIA_TUI                     0\n",
       "DIRECCION                         0\n",
       "RATING_TUI                    14595\n",
       "TOTAL_VALORACIONES_TUI            0\n",
       "PRECIO                            0\n",
       "ESTADO_NEGOCIO                    0\n",
       "LATITUD_TUI                       0\n",
       "LONGITUD_TUI                      0\n",
       "URL                               0\n",
       "WEBSITE                       12278\n",
       "HORARIO                        7716\n",
       "TELEFONO                       6865\n",
       "RESERVA_POSIBLE                   0\n",
       "ACCESIBILIDAD_SILLA_RUEDAS        0\n",
       "TIPOS_API                     20566\n",
       "dtype: int64"
      ]
     },
     "execution_count": 6,
     "metadata": {},
     "output_type": "execute_result"
    }
   ],
   "source": [
    "bbdd_tui.isnull().sum()"
   ]
  },
  {
   "cell_type": "code",
   "execution_count": 7,
   "id": "04813907-6ef8-47a8-ab10-f3ebe03a37e2",
   "metadata": {},
   "outputs": [],
   "source": [
    "bbdd_tui.to_csv(\"BBDD_TUI.csv\", index=False, sep=\",\", encoding=\"utf-8-sig\")"
   ]
  }
 ],
 "metadata": {
  "kernelspec": {
   "display_name": "Python 3 (ipykernel)",
   "language": "python",
   "name": "python3"
  },
  "language_info": {
   "codemirror_mode": {
    "name": "ipython",
    "version": 3
   },
   "file_extension": ".py",
   "mimetype": "text/x-python",
   "name": "python",
   "nbconvert_exporter": "python",
   "pygments_lexer": "ipython3",
   "version": "3.12.3"
  }
 },
 "nbformat": 4,
 "nbformat_minor": 5
}
